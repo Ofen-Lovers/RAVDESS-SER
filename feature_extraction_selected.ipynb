{
 "cells": [
  {
   "cell_type": "code",
   "execution_count": 1,
   "id": "6b46adf4",
   "metadata": {},
   "outputs": [],
   "source": [
    "import librosa\n",
    "import numpy as np\n",
    "\n",
    "def extract_features(audio_path, sr=16000):\n",
    "    # Load audio file\n",
    "    y, sr = librosa.load(audio_path, sr=sr)\n",
    "\n",
    "    # Temporal features\n",
    "    zcr = float(np.mean(librosa.feature.zero_crossing_rate(y)))\n",
    "    rms = float(np.mean(librosa.feature.rms(y=y)))\n",
    "    duration = float(librosa.get_duration(y=y, sr=sr))\n",
    "\n",
    "    # Spectral features\n",
    "    spectral_centroid = float(np.mean(librosa.feature.spectral_centroid(y=y, sr=sr)))\n",
    "    spectral_bandwidth = float(np.mean(librosa.feature.spectral_bandwidth(y=y, sr=sr)))\n",
    "    spectral_contrast = float(np.mean(librosa.feature.spectral_contrast(y=y, sr=sr)))\n",
    "    spectral_flatness = float(np.mean(librosa.feature.spectral_flatness(y=y)))\n",
    "\n",
    "    # MFCC + deltas\n",
    "    mfcc = librosa.feature.mfcc(y=y, sr=sr, n_mfcc=13)\n",
    "    delta_mfcc = librosa.feature.delta(mfcc)\n",
    "\n",
    "    mfcc_means = [float(np.mean(mfcc[i])) for i in range(13)]\n",
    "    delta_mfcc_means = [float(np.mean(delta_mfcc[i])) for i in range(13)]\n",
    "\n",
    "    # Combine features\n",
    "    features = [\n",
    "        zcr, rms, duration,\n",
    "        spectral_centroid, spectral_bandwidth,\n",
    "        spectral_contrast, spectral_flatness,\n",
    "    ] + mfcc_means + delta_mfcc_means\n",
    "\n",
    "    return np.array(features)"
   ]
  },
  {
   "cell_type": "code",
   "execution_count": 2,
   "id": "430393c9",
   "metadata": {},
   "outputs": [
    {
     "name": "stdout",
     "output_type": "stream",
     "text": [
      "Full features saved to extracted_features_selected.csv\n"
     ]
    }
   ],
   "source": [
    "import os\n",
    "import pandas as pd\n",
    "\n",
    "dataset_path = \"dataset_16k\"\n",
    "features_list = []\n",
    "\n",
    "csv_path = \"extracted_features_selected.csv\"\n",
    "\n",
    "if os.path.exists(csv_path):\n",
    "    df = pd.read_csv(csv_path)\n",
    "    print(f\"Loaded existing features from {csv_path}\")\n",
    "else:\n",
    "    for root, _, files in os.walk(dataset_path):\n",
    "        for file in files:\n",
    "            if not file.endswith(\".wav\"):\n",
    "                continue\n",
    "            file_path = os.path.join(root, file)\n",
    "            features = extract_features(file_path)\n",
    "            emotion = int(file.split(\"-\")[2])  # extract emotion ID\n",
    "            features_list.append(np.append(features, emotion))\n",
    "\n",
    "    # Columns\n",
    "        columns = [\n",
    "            \"zcr_mean\", \"rms_mean\", \"duration_s\",\n",
    "            \"spectral_centroid_mean\", \"spectral_bandwidth_mean\",\n",
    "            \"spectral_contrast_mean\", \"spectral_flatness_mean\"\n",
    "        ] + [f\"mfcc{i+1}\" for i in range(13)] \\\n",
    "        + [f\"delta_mfcc{i+1}\" for i in range(13)] \\\n",
    "        + [\"emotion\"]\n",
    "\n",
    "    df = pd.DataFrame(features_list, columns=columns)\n",
    "    df.to_csv(\"extracted_features_selected.csv\", index=False)\n",
    "    print(\"Full features saved to extracted_features_selected.csv\")"
   ]
  }
 ],
 "metadata": {
  "kernelspec": {
   "display_name": "Python 3",
   "language": "python",
   "name": "python3"
  },
  "language_info": {
   "codemirror_mode": {
    "name": "ipython",
    "version": 3
   },
   "file_extension": ".py",
   "mimetype": "text/x-python",
   "name": "python",
   "nbconvert_exporter": "python",
   "pygments_lexer": "ipython3",
   "version": "3.12.10"
  }
 },
 "nbformat": 4,
 "nbformat_minor": 5
}
