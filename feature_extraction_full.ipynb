{
 "cells": [
  {
   "cell_type": "code",
   "execution_count": 11,
   "id": "6b46adf4",
   "metadata": {},
   "outputs": [],
   "source": [
    "import librosa\n",
    "import numpy as np\n",
    "\n",
    "def extract_features(audio_path, sr=16000):\n",
    "    # Load audio file\n",
    "    y, sr = librosa.load(audio_path, sr=sr)\n",
    "\n",
    "    # Temporal features\n",
    "    zcr = float(np.mean(librosa.feature.zero_crossing_rate(y)))\n",
    "    rms = float(np.mean(librosa.feature.rms(y=y)))\n",
    "    duration = float(librosa.get_duration(y=y, sr=sr))\n",
    "\n",
    "    # Spectral features\n",
    "    spectral_centroid = float(np.mean(librosa.feature.spectral_centroid(y=y, sr=sr)))\n",
    "    spectral_bandwidth = float(np.mean(librosa.feature.spectral_bandwidth(y=y, sr=sr)))\n",
    "    spectral_contrast = float(np.mean(librosa.feature.spectral_contrast(y=y, sr=sr)))\n",
    "    spectral_flatness = float(np.mean(librosa.feature.spectral_flatness(y=y)))\n",
    "    tempo = float(librosa.beat.beat_track(y=y, sr=sr)[0])\n",
    "\n",
    "    # MFCC + deltas\n",
    "    mfcc = librosa.feature.mfcc(y=y, sr=sr, n_mfcc=13)\n",
    "    delta_mfcc = librosa.feature.delta(mfcc)\n",
    "    delta2_mfcc = librosa.feature.delta(mfcc, order=2)\n",
    "\n",
    "    mfcc_means = [float(np.mean(mfcc[i])) for i in range(13)]\n",
    "    delta_mfcc_means = [float(np.mean(delta_mfcc[i])) for i in range(13)]\n",
    "    delta2_mfcc_means = [float(np.mean(delta2_mfcc[i])) for i in range(13)]\n",
    "\n",
    "    # Chroma\n",
    "    chroma = librosa.feature.chroma_stft(y=y, sr=sr)\n",
    "    chroma_means = [float(np.mean(chroma[i])) for i in range(chroma.shape[0])]\n",
    "\n",
    "    # Tonnetz\n",
    "    tonnetz = librosa.feature.tonnetz(y=librosa.effects.harmonic(y), sr=sr)\n",
    "    tonnetz_means = [float(np.mean(tonnetz[i])) for i in range(tonnetz.shape[0])]\n",
    "\n",
    "    # Pitch\n",
    "    pitches, magnitudes = librosa.piptrack(y=y, sr=sr)\n",
    "    pitch_mean = float(np.mean(pitches.flatten()))\n",
    "\n",
    "    # Combine features\n",
    "    features = [\n",
    "        zcr, rms, duration, tempo,\n",
    "        spectral_centroid, spectral_bandwidth,\n",
    "        spectral_contrast, spectral_flatness,\n",
    "        pitch_mean\n",
    "    ] + mfcc_means + delta_mfcc_means + delta2_mfcc_means + chroma_means + tonnetz_means\n",
    "\n",
    "    return np.array(features)\n"
   ]
  },
  {
   "cell_type": "code",
   "execution_count": 12,
   "id": "430393c9",
   "metadata": {},
   "outputs": [
    {
     "name": "stderr",
     "output_type": "stream",
     "text": [
      "C:\\Users\\Krystal Bacalso\\AppData\\Local\\Temp\\ipykernel_21788\\1889335680.py:18: DeprecationWarning: Conversion of an array with ndim > 0 to a scalar is deprecated, and will error in future. Ensure you extract a single element from your array before performing this operation. (Deprecated NumPy 1.25.)\n",
      "  tempo = float(librosa.beat.beat_track(y=y, sr=sr)[0])\n",
      "C:\\Users\\Krystal Bacalso\\AppData\\Local\\Temp\\ipykernel_21788\\1889335680.py:18: DeprecationWarning: Conversion of an array with ndim > 0 to a scalar is deprecated, and will error in future. Ensure you extract a single element from your array before performing this operation. (Deprecated NumPy 1.25.)\n",
      "  tempo = float(librosa.beat.beat_track(y=y, sr=sr)[0])\n"
     ]
    },
    {
     "name": "stdout",
     "output_type": "stream",
     "text": [
      "Full features saved to features/extracted_features_full.csv\n"
     ]
    }
   ],
   "source": [
    "import os\n",
    "import pandas as pd\n",
    "\n",
    "dataset_path = \"dataset_16k\"\n",
    "features_list = []\n",
    "\n",
    "os.makedirs(\"features\", exist_ok=True)\n",
    "csv_path = \"features/extracted_features_full.csv\"\n",
    "\n",
    "if os.path.exists(csv_path):\n",
    "    df = pd.read_csv(csv_path)\n",
    "    print(f\"Loaded existing features from {csv_path}\")\n",
    "else:\n",
    "    for root, _, files in os.walk(dataset_path):\n",
    "        for file in files:\n",
    "            if not file.endswith(\".wav\"):\n",
    "                continue\n",
    "            file_path = os.path.join(root, file)\n",
    "            features = extract_features(file_path)\n",
    "            emotion = int(file.split(\"-\")[2])  # extract emotion ID\n",
    "            features_list.append(np.append(features, emotion))\n",
    "\n",
    "    # Columns\n",
    "    columns = [\n",
    "        \"zcr_mean\", \"rms_mean\", \"duration_s\", \"tempo_bpm\",\n",
    "        \"spectral_centroid_mean\", \"spectral_bandwidth_mean\",\n",
    "        \"spectral_contrast_mean\", \"spectral_flatness_mean\",\n",
    "        \"pitch_mean\"\n",
    "    ] + [f\"mfcc{i+1}\" for i in range(13)] \\\n",
    "    + [f\"delta_mfcc{i+1}\" for i in range(13)] \\\n",
    "    + [f\"delta2_mfcc{i+1}\" for i in range(13)] \\\n",
    "    + [f\"chroma{i+1}\" for i in range(12)] \\\n",
    "    + [f\"tonnetz{i+1}\" for i in range(6)] \\\n",
    "    + [\"emotion\"]\n",
    "\n",
    "    df = pd.DataFrame(features_list, columns=columns)\n",
    "    df.to_csv(csv_path, index=False) \n",
    "    print(f\"Full features saved to {csv_path}\")"
   ]
  }
 ],
 "metadata": {
  "kernelspec": {
   "display_name": "Python 3",
   "language": "python",
   "name": "python3"
  },
  "language_info": {
   "codemirror_mode": {
    "name": "ipython",
    "version": 3
   },
   "file_extension": ".py",
   "mimetype": "text/x-python",
   "name": "python",
   "nbconvert_exporter": "python",
   "pygments_lexer": "ipython3",
   "version": "3.12.10"
  }
 },
 "nbformat": 4,
 "nbformat_minor": 5
}
